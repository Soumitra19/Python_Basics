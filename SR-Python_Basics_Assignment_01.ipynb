{
 "cells": [
  {
   "cell_type": "code",
   "execution_count": 14,
   "id": "3b28c424-59e4-43e6-b33e-e27a76f9bd7f",
   "metadata": {},
   "outputs": [
    {
     "name": "stdout",
     "output_type": "stream",
     "text": [
      "  \n"
     ]
    }
   ],
   "source": [
    "\"\"\"Q1. In the below elements which of them are values or an expression? eg:- values can be\n",
    "integer or string and expressions will be mathematical operators.\n",
    "*\n",
    "'hello'\n",
    "-87.8\n",
    "-\n",
    "/\n",
    "+\n",
    "6 \"\"\"\n",
    "\n",
    "# Ans- Below once are the values\n",
    "#      hello , -87.8 and 6\n",
    "\n",
    "# Below once are the expression\n",
    "#      * , - , / ,  +\n",
    "\n"
   ]
  },
  {
   "cell_type": "code",
   "execution_count": 15,
   "id": "ccdc3bdc-7a80-4643-9da1-859e2252be53",
   "metadata": {},
   "outputs": [
    {
     "name": "stdout",
     "output_type": "stream",
     "text": [
      "  \n"
     ]
    }
   ],
   "source": [
    "\"\"\"Q2 What is the difference between string and variable? \"\"\"\n",
    "\n",
    "# Ans- String is the data type.\n",
    "# Variable is something in which we can store data or oject.\n"
   ]
  },
  {
   "cell_type": "code",
   "execution_count": 18,
   "id": "5b8cd194-5a29-4ef6-9c6a-24ebc16dd95d",
   "metadata": {},
   "outputs": [
    {
     "name": "stdout",
     "output_type": "stream",
     "text": [
      "  \n"
     ]
    }
   ],
   "source": [
    "\"\"\"Q3 Describe three different data types.\"\"\"\n",
    "\n",
    "# Ans- Int -  It can return any interger value which we provide as input.\n",
    "# Float - It can return any real number value which we provide as input.\n",
    "# Comp  - It can return any Complex number value which we provide as input. eg 2+3j\n",
    "\n"
   ]
  },
  {
   "cell_type": "code",
   "execution_count": 21,
   "id": "1e54a169-db5e-408f-97b7-206588b788ea",
   "metadata": {},
   "outputs": [
    {
     "name": "stdout",
     "output_type": "stream",
     "text": [
      " \n"
     ]
    }
   ],
   "source": [
    "\"\"\"Q4 What is an expression made up of? What do all expressions do? \"\"\"\n",
    "\n",
    "# Ans- Expression are made of airthmatic operator, function and logic which we create.\n",
    "# expression solve the aithmatic equation or the logic and provide a value of the same.\n",
    "\n"
   ]
  },
  {
   "cell_type": "code",
   "execution_count": 24,
   "id": "be2295fe-b11f-4e31-b5d8-a3298bbd5b93",
   "metadata": {},
   "outputs": [
    {
     "name": "stdout",
     "output_type": "stream",
     "text": [
      " \n"
     ]
    }
   ],
   "source": [
    "\"\"\"Q5 This assignment statements, like spam = 10. What is the difference between an\n",
    "expression and a statement? \"\"\"\n",
    "\n",
    "# Ans- In statement we define the value dirctly, were as in expression we extract the value\n",
    "# using variable, operators or logics\n",
    "\n"
   ]
  },
  {
   "cell_type": "code",
   "execution_count": 27,
   "id": "829df1a5-4127-41d2-9c98-7f2110dd4002",
   "metadata": {},
   "outputs": [
    {
     "name": "stdout",
     "output_type": "stream",
     "text": [
      " \n"
     ]
    },
    {
     "data": {
      "text/plain": [
       "23"
      ]
     },
     "execution_count": 27,
     "metadata": {},
     "output_type": "execute_result"
    }
   ],
   "source": [
    "\"\"\"Q6 After running the following code, what does the variable bacon contain?\n",
    "bacon = 22\n",
    "bacon + 1 \"\"\"\n",
    "\n",
    "# Ans- bacon is still 22  , as we have not defined it again.\n",
    "# See below for reference\n",
    "\n",
    "bacon = 22\n",
    "bacon + 1\n"
   ]
  },
  {
   "cell_type": "code",
   "execution_count": 28,
   "id": "7f63e6c1-3f8d-4f78-9b8d-76330ceea88b",
   "metadata": {},
   "outputs": [
    {
     "data": {
      "text/plain": [
       "22"
      ]
     },
     "execution_count": 28,
     "metadata": {},
     "output_type": "execute_result"
    }
   ],
   "source": [
    "bacon"
   ]
  },
  {
   "cell_type": "code",
   "execution_count": 29,
   "id": "68a90c6c-152e-4e42-b9d9-6aa8fcc21964",
   "metadata": {},
   "outputs": [
    {
     "data": {
      "text/plain": [
       "'spamspamspam'"
      ]
     },
     "execution_count": 29,
     "metadata": {},
     "output_type": "execute_result"
    }
   ],
   "source": [
    "\"\"\"Q7. What should the values of the following two terms be?\n",
    "'spam' + 'spamspam'\n",
    "'spam' * 3 \"\"\"\n",
    "\n",
    "# Ans- 'spam' + 'spamspam' will give 'spamspamspam'\n",
    "# spam' * 3 will also give 'spamspamspam'\n",
    "# See below for reference\n",
    "\n",
    "'spam' + 'spamspam'"
   ]
  },
  {
   "cell_type": "code",
   "execution_count": 31,
   "id": "1268df4d-990c-42f6-9ab1-ce096f16a8b3",
   "metadata": {},
   "outputs": [
    {
     "data": {
      "text/plain": [
       "'spamspamspam'"
      ]
     },
     "execution_count": 31,
     "metadata": {},
     "output_type": "execute_result"
    }
   ],
   "source": [
    "'spam' * 3"
   ]
  },
  {
   "cell_type": "code",
   "execution_count": 35,
   "id": "a4b7bdab-9d43-4e75-a055-66280df73ca4",
   "metadata": {},
   "outputs": [
    {
     "name": "stdout",
     "output_type": "stream",
     "text": [
      " \n"
     ]
    }
   ],
   "source": [
    "\"\"\"Q8 Why is eggs a valid variable name while 100 is invalid?\"\"\"\n",
    "\n",
    "# Ans- 100 can be a value also, so it create confusion hence we avoid it.\n",
    "# eggs can also be avalue but its a string value so it always seen as 'eggs', \n",
    "# were as varible eggs is always write as eggs,  without any semi colon.\n",
    "\n"
   ]
  },
  {
   "cell_type": "code",
   "execution_count": 36,
   "id": "50a604d5-cbf2-4806-8f15-ce77bba3c7d4",
   "metadata": {},
   "outputs": [
    {
     "name": "stdout",
     "output_type": "stream",
     "text": [
      " \n"
     ]
    }
   ],
   "source": [
    "\"\"\"Q9. What three functions can be used to get the integer, floating-point number, or string\n",
    "version of a value? \"\"\"\n",
    "\n",
    "#Ans- int(), will give integer value\n",
    "# float(), will give floating-pont value\n",
    "# str(), will give string value\n",
    "\n",
    "print( \" \" )\n"
   ]
  },
  {
   "cell_type": "code",
   "execution_count": 38,
   "id": "4967540e-0a00-4b30-9941-dc4d4cc2ac93",
   "metadata": {},
   "outputs": [
    {
     "data": {
      "text/plain": [
       "'I have eaten 99 burritos.'"
      ]
     },
     "execution_count": 38,
     "metadata": {},
     "output_type": "execute_result"
    }
   ],
   "source": [
    "\"\"\" 10. Why does this expression cause an error? How can you fix it?\n",
    "'I have eaten ' + 99 + ' burritos.' \"\"\"\n",
    "\n",
    "#Ans- It is giving error becuse sum can not be done between int and str value.\n",
    "# to reslove we can add the semi colon arornd 99.\n",
    "\n",
    "'I have eaten ' + '99' + ' burritos.'"
   ]
  },
  {
   "cell_type": "code",
   "execution_count": null,
   "id": "3a517928-d325-4ef1-ae08-6089ee5f28dc",
   "metadata": {},
   "outputs": [],
   "source": []
  }
 ],
 "metadata": {
  "kernelspec": {
   "display_name": "Python 3 (ipykernel)",
   "language": "python",
   "name": "python3"
  },
  "language_info": {
   "codemirror_mode": {
    "name": "ipython",
    "version": 3
   },
   "file_extension": ".py",
   "mimetype": "text/x-python",
   "name": "python",
   "nbconvert_exporter": "python",
   "pygments_lexer": "ipython3",
   "version": "3.10.6"
  }
 },
 "nbformat": 4,
 "nbformat_minor": 5
}
